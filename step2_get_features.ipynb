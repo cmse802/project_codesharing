{
 "cells": [
  {
   "cell_type": "markdown",
   "metadata": {},
   "source": [
    "# Part 1. READ \"match_trt\" and \"match_con\""
   ]
  },
  {
   "cell_type": "code",
   "execution_count": 1,
   "metadata": {},
   "outputs": [
    {
     "name": "stdout",
     "output_type": "stream",
     "text": [
      "(6826, 26) (5132, 26)\n"
     ]
    },
    {
     "data": {
      "text/html": [
       "<div>\n",
       "<style scoped>\n",
       "    .dataframe tbody tr th:only-of-type {\n",
       "        vertical-align: middle;\n",
       "    }\n",
       "\n",
       "    .dataframe tbody tr th {\n",
       "        vertical-align: top;\n",
       "    }\n",
       "\n",
       "    .dataframe thead th {\n",
       "        text-align: right;\n",
       "    }\n",
       "</style>\n",
       "<table border=\"1\" class=\"dataframe\">\n",
       "  <thead>\n",
       "    <tr style=\"text-align: right;\">\n",
       "      <th></th>\n",
       "      <th>paper_url</th>\n",
       "      <th>arxiv_id</th>\n",
       "      <th>title</th>\n",
       "      <th>abstract</th>\n",
       "      <th>url_abs</th>\n",
       "      <th>url_pdf</th>\n",
       "      <th>proceeding</th>\n",
       "      <th>authors</th>\n",
       "      <th>tasks</th>\n",
       "      <th>date</th>\n",
       "      <th>...</th>\n",
       "      <th>doi</th>\n",
       "      <th>venue_raw</th>\n",
       "      <th>venue_id</th>\n",
       "      <th>venue_type</th>\n",
       "      <th>authors_name</th>\n",
       "      <th>authors_id</th>\n",
       "      <th>authors_org</th>\n",
       "      <th>fos_name</th>\n",
       "      <th>fos_w</th>\n",
       "      <th>ref</th>\n",
       "    </tr>\n",
       "  </thead>\n",
       "  <tbody>\n",
       "    <tr>\n",
       "      <td>0</td>\n",
       "      <td>https://paperswithcode.com/paper/large-scale-p...</td>\n",
       "      <td>1706.03736</td>\n",
       "      <td>large-scale plant classification with deep neu...</td>\n",
       "      <td>This paper discusses the potential of applying...</td>\n",
       "      <td>http://arxiv.org/abs/1706.03736v1</td>\n",
       "      <td>http://arxiv.org/pdf/1706.03736v1.pdf</td>\n",
       "      <td>NaN</td>\n",
       "      <td>['Ignacio Heredia']</td>\n",
       "      <td>[]</td>\n",
       "      <td>2017-06-12</td>\n",
       "      <td>...</td>\n",
       "      <td>10.1145/3075564.3075590</td>\n",
       "      <td>Computing Frontiers</td>\n",
       "      <td>2.626327e+09</td>\n",
       "      <td>C</td>\n",
       "      <td>['Ignacio Heredia']</td>\n",
       "      <td>[2622430314]</td>\n",
       "      <td>['Instituto de Fisica de Cantabria (CSIC-UC), ...</td>\n",
       "      <td>['Fork (system call)', 'Data mining', 'Compute...</td>\n",
       "      <td>[Decimal('0.4434'), Decimal('0.45259'), Decima...</td>\n",
       "      <td>[1522301498, 1556850077, 1606347560, 191666523...</td>\n",
       "    </tr>\n",
       "    <tr>\n",
       "      <td>1</td>\n",
       "      <td>https://paperswithcode.com/paper/deep-boltzman...</td>\n",
       "      <td>1509.06535</td>\n",
       "      <td>deep boltzmann machines in estimation of distr...</td>\n",
       "      <td>Estimation of Distribution Algorithms (EDAs) r...</td>\n",
       "      <td>http://arxiv.org/abs/1509.06535v2</td>\n",
       "      <td>http://arxiv.org/pdf/1509.06535v2.pdf</td>\n",
       "      <td>NaN</td>\n",
       "      <td>['Malte Probst', 'Franz Rothlauf']</td>\n",
       "      <td>['Combinatorial Optimization']</td>\n",
       "      <td>2015-09-22</td>\n",
       "      <td>...</td>\n",
       "      <td>NaN</td>\n",
       "      <td>Neural and Evolutionary Computing</td>\n",
       "      <td>2.596710e+09</td>\n",
       "      <td>J</td>\n",
       "      <td>['Malte Probst', 'Franz Rothlauf']</td>\n",
       "      <td>[2137666597, 2171731261]</td>\n",
       "      <td>[]</td>\n",
       "      <td>['Convergence (routing)', 'Estimation of distr...</td>\n",
       "      <td>[Decimal('0.48188'), Decimal('0.60781'), Decim...</td>\n",
       "      <td>[157468466, 189596042, 1536712125, 1597878669,...</td>\n",
       "    </tr>\n",
       "  </tbody>\n",
       "</table>\n",
       "<p>2 rows × 26 columns</p>\n",
       "</div>"
      ],
      "text/plain": [
       "                                           paper_url    arxiv_id  \\\n",
       "0  https://paperswithcode.com/paper/large-scale-p...  1706.03736   \n",
       "1  https://paperswithcode.com/paper/deep-boltzman...  1509.06535   \n",
       "\n",
       "                                               title  \\\n",
       "0  large-scale plant classification with deep neu...   \n",
       "1  deep boltzmann machines in estimation of distr...   \n",
       "\n",
       "                                            abstract  \\\n",
       "0  This paper discusses the potential of applying...   \n",
       "1  Estimation of Distribution Algorithms (EDAs) r...   \n",
       "\n",
       "                             url_abs                                url_pdf  \\\n",
       "0  http://arxiv.org/abs/1706.03736v1  http://arxiv.org/pdf/1706.03736v1.pdf   \n",
       "1  http://arxiv.org/abs/1509.06535v2  http://arxiv.org/pdf/1509.06535v2.pdf   \n",
       "\n",
       "  proceeding                             authors  \\\n",
       "0        NaN                 ['Ignacio Heredia']   \n",
       "1        NaN  ['Malte Probst', 'Franz Rothlauf']   \n",
       "\n",
       "                            tasks        date  ...                      doi  \\\n",
       "0                              []  2017-06-12  ...  10.1145/3075564.3075590   \n",
       "1  ['Combinatorial Optimization']  2015-09-22  ...                      NaN   \n",
       "\n",
       "                           venue_raw      venue_id venue_type  \\\n",
       "0                Computing Frontiers  2.626327e+09          C   \n",
       "1  Neural and Evolutionary Computing  2.596710e+09          J   \n",
       "\n",
       "                         authors_name                authors_id  \\\n",
       "0                 ['Ignacio Heredia']              [2622430314]   \n",
       "1  ['Malte Probst', 'Franz Rothlauf']  [2137666597, 2171731261]   \n",
       "\n",
       "                                         authors_org  \\\n",
       "0  ['Instituto de Fisica de Cantabria (CSIC-UC), ...   \n",
       "1                                                 []   \n",
       "\n",
       "                                            fos_name  \\\n",
       "0  ['Fork (system call)', 'Data mining', 'Compute...   \n",
       "1  ['Convergence (routing)', 'Estimation of distr...   \n",
       "\n",
       "                                               fos_w  \\\n",
       "0  [Decimal('0.4434'), Decimal('0.45259'), Decima...   \n",
       "1  [Decimal('0.48188'), Decimal('0.60781'), Decim...   \n",
       "\n",
       "                                                 ref  \n",
       "0  [1522301498, 1556850077, 1606347560, 191666523...  \n",
       "1  [157468466, 189596042, 1536712125, 1597878669,...  \n",
       "\n",
       "[2 rows x 26 columns]"
      ]
     },
     "execution_count": 1,
     "metadata": {},
     "output_type": "execute_result"
    }
   ],
   "source": [
    "import pandas as pd\n",
    "import numpy as np\n",
    "\n",
    "## READ \"match_trt\" and \"match_con\"\n",
    "df_trt = pd.read_csv('./Test_data/src_data/match_trt_df.csv')\n",
    "df_con = pd.read_csv('./Test_data/src_data/match_con_df.csv')\n",
    "print( df_trt.shape, df_con.shape)\n",
    "\n",
    "# examples\n",
    "df_trt.head(2)"
   ]
  },
  {
   "cell_type": "code",
   "execution_count": 54,
   "metadata": {},
   "outputs": [
    {
     "data": {
      "text/plain": [
       "(11958, 27)"
      ]
     },
     "execution_count": 54,
     "metadata": {},
     "output_type": "execute_result"
    }
   ],
   "source": [
    "## Assign \"group\" variable for Treated/control index \n",
    "df_trt['group']= 1\n",
    "df_con['group']= 0\n",
    "\n",
    "## Stack both trt and control data as \"df_all\"\n",
    "df_all = pd.concat([df_trt, df_con], axis = 0, ignore_index=True)\n",
    "df_all.shape"
   ]
  },
  {
   "cell_type": "code",
   "execution_count": 55,
   "metadata": {},
   "outputs": [
    {
     "data": {
      "text/plain": [
       "group  year\n",
       "0      1995       1\n",
       "       1997       2\n",
       "       1998       1\n",
       "       1999       1\n",
       "       2000       1\n",
       "       2002       3\n",
       "       2003       2\n",
       "       2006       2\n",
       "       2007       1\n",
       "       2008       4\n",
       "       2009       3\n",
       "       2010       8\n",
       "       2011      17\n",
       "       2012      35\n",
       "       2013      47\n",
       "       2014     109\n",
       "       2015     253\n",
       "       2016     516\n",
       "       2017    1077\n",
       "       2018    1937\n",
       "       2019    1111\n",
       "       2020       1\n",
       "1      2012       4\n",
       "       2013      23\n",
       "       2014      69\n",
       "       2015     267\n",
       "       2016     716\n",
       "       2017    1410\n",
       "       2018    2574\n",
       "       2019    1741\n",
       "       2020      22\n",
       "dtype: int64"
      ]
     },
     "execution_count": 55,
     "metadata": {},
     "output_type": "execute_result"
    }
   ],
   "source": [
    "## create \"year\" value\n",
    "df_all['year'] = df_all['date'].str[:4].astype(int)\n",
    "df_all.groupby(['group', 'year']).size()"
   ]
  },
  {
   "cell_type": "markdown",
   "metadata": {},
   "source": [
    "Based on above published-year distributions, I study the year-range during the **2016-2018** period based on two reasons below: \n",
    "- 1) starting from 2016, there were more papers that mentioned codes in our sample data; \n",
    "- 2) the number of citations are also sensitive to the publish years. For instance, those papers published in 2019 might need more time to validate their acedamic influences in terms of citations. "
   ]
  },
  {
   "cell_type": "code",
   "execution_count": 59,
   "metadata": {},
   "outputs": [
    {
     "name": "stdout",
     "output_type": "stream",
     "text": [
      "(8230, 28)\n"
     ]
    },
    {
     "data": {
      "text/plain": [
       "group  year\n",
       "0      2016     516\n",
       "       2017    1077\n",
       "       2018    1937\n",
       "1      2016     716\n",
       "       2017    1410\n",
       "       2018    2574\n",
       "dtype: int64"
      ]
     },
     "execution_count": 59,
     "metadata": {},
     "output_type": "execute_result"
    }
   ],
   "source": [
    "## 2016-2018 period -- DT\n",
    "DT = df_all.loc[ (df_all['year'] >= 2016) & (df_all['year'] <= 2018), :]\n",
    "print( DT.shape )\n",
    "DT.groupby(['group', 'year']).size()"
   ]
  },
  {
   "cell_type": "markdown",
   "metadata": {},
   "source": [
    "**To Dos:**\n",
    "- describe variables ??"
   ]
  },
  {
   "cell_type": "markdown",
   "metadata": {},
   "source": [
    "# Part 2. Feature Extraction_simple\n",
    "**Dependent Variable (DV)**\n",
    "- n_citation: number of citation\n",
    "\n",
    "**MAIN IV**\n",
    "- group: whether the paper mentions code in paper?\n",
    "\n",
    "**CREATE Basic features**\n",
    "- 1) title_len: title length\n",
    "- 2) abs_len: abstract length\n",
    "\n",
    "\n",
    "- 3) no_author: number of authors\n",
    "- 4) no_affi:   number of affiliations --> too much unknown (skip)\n",
    "- 5) no_ref:    number of references given by the dblp data"
   ]
  },
  {
   "cell_type": "code",
   "execution_count": 60,
   "metadata": {},
   "outputs": [
    {
     "name": "stdout",
     "output_type": "stream",
     "text": [
      "Index(['paper_url', 'arxiv_id', 'title', 'abstract', 'url_abs', 'url_pdf',\n",
      "       'proceeding', 'authors', 'tasks', 'date', 'id', 'n_citation',\n",
      "       'doc_type', 'publisher', 'volume', 'issue', 'doi', 'venue_raw',\n",
      "       'venue_id', 'venue_type', 'authors_name', 'authors_id', 'authors_org',\n",
      "       'fos_name', 'fos_w', 'ref', 'group', 'year'],\n",
      "      dtype='object')\n"
     ]
    },
    {
     "data": {
      "text/html": [
       "<div>\n",
       "<style scoped>\n",
       "    .dataframe tbody tr th:only-of-type {\n",
       "        vertical-align: middle;\n",
       "    }\n",
       "\n",
       "    .dataframe tbody tr th {\n",
       "        vertical-align: top;\n",
       "    }\n",
       "\n",
       "    .dataframe thead th {\n",
       "        text-align: right;\n",
       "    }\n",
       "</style>\n",
       "<table border=\"1\" class=\"dataframe\">\n",
       "  <thead>\n",
       "    <tr style=\"text-align: right;\">\n",
       "      <th></th>\n",
       "      <th>paper_url</th>\n",
       "      <th>arxiv_id</th>\n",
       "      <th>title</th>\n",
       "      <th>abstract</th>\n",
       "      <th>url_abs</th>\n",
       "      <th>url_pdf</th>\n",
       "      <th>proceeding</th>\n",
       "      <th>authors</th>\n",
       "      <th>tasks</th>\n",
       "      <th>date</th>\n",
       "      <th>...</th>\n",
       "      <th>venue_id</th>\n",
       "      <th>venue_type</th>\n",
       "      <th>authors_name</th>\n",
       "      <th>authors_id</th>\n",
       "      <th>authors_org</th>\n",
       "      <th>fos_name</th>\n",
       "      <th>fos_w</th>\n",
       "      <th>ref</th>\n",
       "      <th>group</th>\n",
       "      <th>year</th>\n",
       "    </tr>\n",
       "  </thead>\n",
       "  <tbody>\n",
       "    <tr>\n",
       "      <td>0</td>\n",
       "      <td>https://paperswithcode.com/paper/large-scale-p...</td>\n",
       "      <td>1706.04</td>\n",
       "      <td>large-scale plant classification with deep neu...</td>\n",
       "      <td>This paper discusses the potential of applying...</td>\n",
       "      <td>http://arxiv.org/abs/1706.03736v1</td>\n",
       "      <td>http://arxiv.org/pdf/1706.03736v1.pdf</td>\n",
       "      <td>NaN</td>\n",
       "      <td>['Ignacio Heredia']</td>\n",
       "      <td>[]</td>\n",
       "      <td>2017-06-12</td>\n",
       "      <td>...</td>\n",
       "      <td>2.626327e+09</td>\n",
       "      <td>C</td>\n",
       "      <td>['Ignacio Heredia']</td>\n",
       "      <td>[2622430314]</td>\n",
       "      <td>['Instituto de Fisica de Cantabria (CSIC-UC), ...</td>\n",
       "      <td>['Fork (system call)', 'Data mining', 'Compute...</td>\n",
       "      <td>[Decimal('0.4434'), Decimal('0.45259'), Decima...</td>\n",
       "      <td>[1522301498, 1556850077, 1606347560, 191666523...</td>\n",
       "      <td>1</td>\n",
       "      <td>2017</td>\n",
       "    </tr>\n",
       "  </tbody>\n",
       "</table>\n",
       "<p>1 rows × 28 columns</p>\n",
       "</div>"
      ],
      "text/plain": [
       "                                           paper_url arxiv_id  \\\n",
       "0  https://paperswithcode.com/paper/large-scale-p...  1706.04   \n",
       "\n",
       "                                               title  \\\n",
       "0  large-scale plant classification with deep neu...   \n",
       "\n",
       "                                            abstract  \\\n",
       "0  This paper discusses the potential of applying...   \n",
       "\n",
       "                             url_abs                                url_pdf  \\\n",
       "0  http://arxiv.org/abs/1706.03736v1  http://arxiv.org/pdf/1706.03736v1.pdf   \n",
       "\n",
       "  proceeding              authors tasks        date  ...      venue_id  \\\n",
       "0        NaN  ['Ignacio Heredia']    []  2017-06-12  ...  2.626327e+09   \n",
       "\n",
       "   venue_type         authors_name    authors_id  \\\n",
       "0           C  ['Ignacio Heredia']  [2622430314]   \n",
       "\n",
       "                                         authors_org  \\\n",
       "0  ['Instituto de Fisica de Cantabria (CSIC-UC), ...   \n",
       "\n",
       "                                            fos_name  \\\n",
       "0  ['Fork (system call)', 'Data mining', 'Compute...   \n",
       "\n",
       "                                               fos_w  \\\n",
       "0  [Decimal('0.4434'), Decimal('0.45259'), Decima...   \n",
       "\n",
       "                                                 ref  group  year  \n",
       "0  [1522301498, 1556850077, 1606347560, 191666523...      1  2017  \n",
       "\n",
       "[1 rows x 28 columns]"
      ]
     },
     "execution_count": 60,
     "metadata": {},
     "output_type": "execute_result"
    }
   ],
   "source": [
    "print( DT.keys() )\n",
    "DT.head(1)"
   ]
  },
  {
   "cell_type": "code",
   "execution_count": 159,
   "metadata": {},
   "outputs": [
    {
     "name": "stdout",
     "output_type": "stream",
     "text": [
      "\n",
      " The number of unknown abstracts: 140, \n",
      "       so I remove those samples with unknown abstracts info\n",
      "\n",
      " The percentage of unknown authors_affilations: 77%, \n",
      "       so I drop this feature\n"
     ]
    }
   ],
   "source": [
    "DT = DT.fillna('NA')\n",
    "\n",
    "# 1) title_len: title length\n",
    "DT.loc[:, 'title_len'] = DT['title'].apply(lambda x: len(x.strip().split()) )\n",
    "\n",
    "# 2) abs_len: abstract length  --- ????\n",
    "def get_abslen(x):\n",
    "    if x == 'NA':\n",
    "        return 'NA'\n",
    "    else:\n",
    "        return len( x.strip().split() ) \n",
    "DT.loc[:, 'abs_len'] = DT['abstract'].apply(lambda x: get_abslen(x) )\n",
    "print( '\\n', 'The number of unknown abstracts: {}, \\n \\\n",
    "      so I remove those samples with unknown abstracts info'.format( \n",
    "           sum(DT['abs_len'] == 'NA'))  ) \n",
    "DT = DT.loc[DT['abs_len'] != 'NA', :]\n",
    "\n",
    "# 3) no_author: number of authors\n",
    "DT.loc[:, 'no_author'] = DT['authors_name'].apply(lambda x: len(x) )\n",
    "\n",
    "# 4) no_affi: number of affiliations\n",
    "print( '\\n', 'The percentage of unknown authors_affilations: {}%, \\n \\\n",
    "      so I drop this feature'.format( \n",
    "           round( sum( DT['authors_org'] == '[]' )/DT.shape[0] * 100), 2)) \n",
    "\n",
    "# 5) no_ref: number of references given by the dblp data\n",
    "DT.loc[:, 'no_ref'] = DT['ref'].apply(lambda x: len(x) )"
   ]
  },
  {
   "cell_type": "code",
   "execution_count": 161,
   "metadata": {},
   "outputs": [
    {
     "name": "stdout",
     "output_type": "stream",
     "text": [
      "(8090, 6)\n"
     ]
    },
    {
     "data": {
      "text/html": [
       "<div>\n",
       "<style scoped>\n",
       "    .dataframe tbody tr th:only-of-type {\n",
       "        vertical-align: middle;\n",
       "    }\n",
       "\n",
       "    .dataframe tbody tr th {\n",
       "        vertical-align: top;\n",
       "    }\n",
       "\n",
       "    .dataframe thead th {\n",
       "        text-align: right;\n",
       "    }\n",
       "</style>\n",
       "<table border=\"1\" class=\"dataframe\">\n",
       "  <thead>\n",
       "    <tr style=\"text-align: right;\">\n",
       "      <th></th>\n",
       "      <th>n_citation</th>\n",
       "      <th>group</th>\n",
       "      <th>title_len</th>\n",
       "      <th>abs_len</th>\n",
       "      <th>no_author</th>\n",
       "      <th>no_ref</th>\n",
       "    </tr>\n",
       "  </thead>\n",
       "  <tbody>\n",
       "    <tr>\n",
       "      <td>0</td>\n",
       "      <td>1</td>\n",
       "      <td>1</td>\n",
       "      <td>7</td>\n",
       "      <td>95</td>\n",
       "      <td>19</td>\n",
       "      <td>168</td>\n",
       "    </tr>\n",
       "    <tr>\n",
       "      <td>2</td>\n",
       "      <td>0</td>\n",
       "      <td>1</td>\n",
       "      <td>11</td>\n",
       "      <td>104</td>\n",
       "      <td>95</td>\n",
       "      <td>264</td>\n",
       "    </tr>\n",
       "    <tr>\n",
       "      <td>5</td>\n",
       "      <td>9</td>\n",
       "      <td>1</td>\n",
       "      <td>7</td>\n",
       "      <td>201</td>\n",
       "      <td>33</td>\n",
       "      <td>405</td>\n",
       "    </tr>\n",
       "    <tr>\n",
       "      <td>6</td>\n",
       "      <td>6</td>\n",
       "      <td>1</td>\n",
       "      <td>9</td>\n",
       "      <td>226</td>\n",
       "      <td>52</td>\n",
       "      <td>143</td>\n",
       "    </tr>\n",
       "    <tr>\n",
       "      <td>7</td>\n",
       "      <td>2</td>\n",
       "      <td>1</td>\n",
       "      <td>7</td>\n",
       "      <td>94</td>\n",
       "      <td>16</td>\n",
       "      <td>155</td>\n",
       "    </tr>\n",
       "  </tbody>\n",
       "</table>\n",
       "</div>"
      ],
      "text/plain": [
       "   n_citation  group  title_len abs_len  no_author  no_ref\n",
       "0           1      1          7      95         19     168\n",
       "2           0      1         11     104         95     264\n",
       "5           9      1          7     201         33     405\n",
       "6           6      1          9     226         52     143\n",
       "7           2      1          7      94         16     155"
      ]
     },
     "execution_count": 161,
     "metadata": {},
     "output_type": "execute_result"
    }
   ],
   "source": [
    "## get \"DT_base\" : DT with Basic features\n",
    "DT_base = DT[['n_citation', 'group', 'title_len', 'abs_len', 'no_author',\n",
    "             'no_ref']]\n",
    "print(DT_base.shape)\n",
    "DT_base.head()"
   ]
  },
  {
   "cell_type": "code",
   "execution_count": 162,
   "metadata": {},
   "outputs": [],
   "source": [
    "### SAVE DT_base\n",
    "DT_base.to_csv('./Test_data/src_data/DT_base.csv', index=False)\n"
   ]
  },
  {
   "cell_type": "markdown",
   "metadata": {},
   "source": [
    "# Part 3. Feature Extraction_complex  [Not finished yet]\n",
    "\n",
    "**CREATE Complex features**\n",
    "- 6) a vector of field indicator <-- using unique \"fos_name\", each input should be the \"fos_w\"\n",
    "- 7) unsupervised Topic Modeling using abstract data? -- LDA\n"
   ]
  },
  {
   "cell_type": "code",
   "execution_count": null,
   "metadata": {},
   "outputs": [],
   "source": []
  },
  {
   "cell_type": "code",
   "execution_count": null,
   "metadata": {},
   "outputs": [],
   "source": [
    "### SAVE DT_\n",
    "DT_cplx.to_csv('./Test_data/src_data/DT_cplx.csv', index=False)\n"
   ]
  }
 ],
 "metadata": {
  "kernelspec": {
   "display_name": "Python 3",
   "language": "python",
   "name": "python3"
  },
  "language_info": {
   "codemirror_mode": {
    "name": "ipython",
    "version": 3
   },
   "file_extension": ".py",
   "mimetype": "text/x-python",
   "name": "python",
   "nbconvert_exporter": "python",
   "pygments_lexer": "ipython3",
   "version": "3.7.4"
  }
 },
 "nbformat": 4,
 "nbformat_minor": 2
}
