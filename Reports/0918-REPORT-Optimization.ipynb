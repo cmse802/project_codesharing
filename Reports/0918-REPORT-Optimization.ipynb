{
 "cells": [
  {
   "cell_type": "markdown",
   "metadata": {},
   "source": [
    "In order to successfully complete this assignment you need to commit a report in markdown or ipynb format to your ```Reports``` directory in your project git repository on or before **11:59pm on Friday September 18**."
   ]
  },
  {
   "cell_type": "markdown",
   "metadata": {},
   "source": [
    "# <center>Using Optimization in Consumer Engagements</center>\n",
    "\n",
    "<center>by Jiaoping Chen</center>"
   ]
  },
  {
   "cell_type": "markdown",
   "metadata": {},
   "source": [
    "Optimization is quite popular in the information systems management area, especially in improving consumer engagements. Consumer engagement refers to an ongoing relationship with a product or brand.  Companies can deliberate their efforts to reach out to their consumers to motivate participation, inspire purchases, gather feedbacks, and consolidate brand impressions. By engaging consumers efficiently, the company tends to enhance consumers’ likelihood of spending money on a company’s product or service, as well as improve customer loyalty and revenue in the long run. \n",
    "- Examples of how companies activate consumers include providing better user experience such as smooth purchasing process, reward systems in terms of badge or point, promotional events, and excellent product recommendation systems to extend user’s browsing time."
   ]
  },
  {
   "cell_type": "markdown",
   "metadata": {},
   "source": [
    "First, the majority of user engagement research tends to apply various kinds of regressions (Negative Binomial regression, logistic regression, simple linear regression) with newly generated features to identify their impacts. The idea behind these regressions is to minimize mean square error, if we change the phase in terms of optimization. \n",
    "- For example, (Yang, Ren, and Adomavicius 2019) provided evidence of the positive impact of characteristics of user-generated content (such as # of comments, # of likes) on social media, Facebook business page, on customer engagement. \n",
    "- (Xu et al. 2016) showed the adoption of the tablet channel enhanced the overall growth of an e-commerce market, which acts as a complement for the mobile channel but a substitute for the PC channel. In other words, the tablet adoption motivates consumers to browse among three devices (mobile, PC, and tablet channels) more conveniently, and thus spend more money on the e-commerce platform."
   ]
  },
  {
   "cell_type": "markdown",
   "metadata": {},
   "source": [
    "Second, some researches utilize optimization by maximizing the likelihood function of user engagements given their previous behaviors. \n",
    "- (Huang, Jasin, and Manchanda 2019) proposed a two-stage modeling approach to model player engagement as a function of motivation to maximize customer game-play via matching co-players in a large online video game company. The idea is to first infer the most likely engagement state (high or low) of player i at week t, given the number of rounds played in the previous week and the engagement state at week t. Then, the inferred engagement state at week t is incorporated with different game j characteristics, to select an optimized game j (with a set of co-players) that can maximize a player’s game-play score as well as control players’ performance variation across different game rounds. "
   ]
  },
  {
   "cell_type": "markdown",
   "metadata": {},
   "source": [
    "Third, other researches tend to advanced machine techniques, such as reinforcement learning, graph neural networks to maximize user engagement. (Zou et al. 2019) use reinforcement learning to optimize long-term user engagement (maximize their long-term scores) in the recommendation system. "
   ]
  },
  {
   "cell_type": "markdown",
   "metadata": {},
   "source": [
    "---\n",
    "# References\n",
    "\n",
    "In all three example provide some references to papers you found that help illustrate your argument. I prefer references with links to papers.  \n",
    "\n"
   ]
  },
  {
   "cell_type": "markdown",
   "metadata": {},
   "source": [
    "- Huang, Yan, Stefanus Jasin, and Puneet Manchanda. 2019. “‘Level Up’: Leveraging Skill and Engagement to Maximize Player Game-Play in Online Video Games.” Information Systems Research 30 (3): 927–47. https://doi.org/10.1287/isre.2019.0839.\n",
    "\n",
    "- Xu, Kaiquan, Jason Chan, Anindya Ghose, and Sang Pil Han. 2016. “Battle of the Channels: The Impact of Tablets on Digital Commerce.” Management Science 63 (5): 1469–92. https://doi.org/10.1287/mnsc.2015.2406.\n",
    "\n",
    "- Yang, Mochen, Yuqing Ren, and Gediminas Adomavicius. 2019. “Understanding User-Generated Content and Customer Engagement on Facebook Business Pages.” Information Systems Research 30 (3): 839–55. https://doi.org/10.1287/isre.2019.0834.\n",
    "\n",
    "- Zou, Lixin, Long Xia, Zhuoye Ding, Jiaxing Song, Weidong Liu, and Dawei Yin. 2019. “Reinforcement Learning to Optimize Long-Term User Engagement in Recommender Systems.” ArXiv:1902.05570 [Cs], July. http://arxiv.org/abs/1902.05570.\n",
    "\n"
   ]
  },
  {
   "cell_type": "markdown",
   "metadata": {},
   "source": [
    "-----\n",
    "### Congratulations, you are done!\n",
    "\n",
    "Now, you just need to commit and push this report to your project git repository. "
   ]
  },
  {
   "cell_type": "markdown",
   "metadata": {},
   "source": [
    "----"
   ]
  }
 ],
 "metadata": {
  "anaconda-cloud": {},
  "kernelspec": {
   "display_name": "Python 3",
   "language": "python",
   "name": "python3"
  },
  "language_info": {
   "codemirror_mode": {
    "name": "ipython",
    "version": 3
   },
   "file_extension": ".py",
   "mimetype": "text/x-python",
   "name": "python",
   "nbconvert_exporter": "python",
   "pygments_lexer": "ipython3",
   "version": "3.7.6"
  }
 },
 "nbformat": 4,
 "nbformat_minor": 1
}
