{
 "cells": [
  {
   "cell_type": "markdown",
   "metadata": {},
   "source": [
    "# <center>Using Graph Theory in Social Network Analysis </center>\n",
    "\n",
    "<center>by Jiaoping Chen </center>"
   ]
  },
  {
   "cell_type": "markdown",
   "metadata": {},
   "source": [
    "In old periods, all business was local, such as local fresh markets and corresponding local customers. However, we are living in a digital world that social media platforms like Facebook and Youtube are embedded in our lives. A recent study reported that \"66% of smartphone users sleep with their phone at night\"[1]. From a business perspective, such a rich trail of individual-level data that leave on social media can be utilized to investigate audience behavior and advertisement effectiveness. So how do we empirically realize this goal with large unstructured data from social media? Borrowing the graph theory, it comes to the **Social network analysis**, which represents a social graph of customers to identify influencers or sub-communities.\n",
    "\n",
    "The first implementation of the social network that comes up to my mind is **digital propagation**. \n",
    "\n",
    "- The spreading rate of digital propagation through social networks is too fast to believe based on users' current digital resiliences. Let's think about how a medium of propagation works. Starting from a set of Twitter friends, for example, one piece of massage was retweeted or passed by subsets of friends. If a recipient retweeted it to 20 friends on a cycle of one hour and friends were to do the same, 3 million people would have seen the massage in 5 hours (20^5 = 3.2 million). Assume all people on this planet can access the internet and Twitter, this massage would have been seen before 8 hours up. Similarly, we can have propagation with similar patterns through Facebook or Email. \n",
    "\n",
    "\n",
    "- Although the fast characteristic of digital propagation brings first-hand information to massive users in a short period with low cost, it also brings some uncertainties about \"facts\" behind that information. For example, we might receive viral emails that try to get our password and our connected communities through a fake link. In this case, the fast spread means largely affected communities, and also brings more challenges for cybersecurity engineers.\n",
    "\n",
    "**Community detection** is another hot topic in social network analysis. The main idea is to firstly create a social network with nodes and edges, then identify a subset of nodes between which the interactions are (relatively) frequent. \n",
    "\n",
    "- It helps to understand the interactions between people, visualize and navigate huge networks, and form the basis for other tasks such as data mining.\n",
    "\n",
    "\n",
    "- One common approach to do community detection with huge networks is to cluster based on a metric named \"node similarity\". First, each node's connection with other nodes can be represented by a feature vector with 0 and 1. Then, we compute a Cosine or Jaccard similarity among nodes' vectors. Finally, we apply some machine learning algorithms such as a classical k-means clustering. \n",
    "\n",
    "    - Example: given a social network, we can do unsupervised learning to cluster sub-communities use the k-means clustering algorithm: \n",
    "        - step1) each cluster is associated with a centroid/center point; \n",
    "        - step2) each node is assigned to the cluster with the closest centroid\n",
    "        \n",
    "\t- Example: we can also do semi-supervised learning. Given a social network and labels of some users/nodes in the network (eg, Like/dislike a product), then we utilize that social network attributes to output labels of remaining users in the network.\n",
    "\n",
    "\t\n",
    "Lastly, **Link Prediction** that predicts which nodes are likely to get connected in a social network is one of the most profitable tasks. It would return a list of ranked nodes/users based on the importance/influential degree, such as friend recommendation on Facebook.\n",
    "\n",
    "- The motivation behind is that because users have different social capital (or network values) within a social network, hence, how can one make the best use of this information? It is more related to the topic called *Viral Marketing*. \n",
    "    - Example: we can find out a set of users to provide coupons to influence other people in the network, to maximize the benefit with limited budgets.\n",
    "    - Example: Similar to the Tower problem, how can we find the coverage of the whole network of users with the minimum number of nodes/users? One easy solution is based on the Basic Greedy Selection. It would first select the node that maximizes the utility, then remove the node and then repeat the same steps until the full coverage.\n",
    "\n",
    "I also found a piece of interesting news that releases their concerns about social media mining [3]. Except for users' online social relations, hundreds of thousands of face images from social media are used to training the facial recognition algorithm without their consent.\n"
   ]
  },
  {
   "cell_type": "markdown",
   "metadata": {},
   "source": [
    "---\n",
    "# References\n",
    "\n",
    "[1] statistics https://www.reviews.org/mobile/cell-phone-addiction/#Smart_Phone_Addiction_Stats  \n",
    "\n",
    "[2] k-means clustering https://en.wikipedia.org/wiki/K-means_clustering\n",
    "\n",
    "[3] Challenges with social media mining http://questromapps.bu.edu/qstnet/Personal/Faculty/Publication/pubUploadsNew/wp2008-6.pdf?did=756&Filename=wp2008-6.p"
   ]
  },
  {
   "cell_type": "code",
   "execution_count": null,
   "metadata": {},
   "outputs": [],
   "source": []
  }
 ],
 "metadata": {
  "anaconda-cloud": {},
  "kernelspec": {
   "display_name": "Python 3",
   "language": "python",
   "name": "python3"
  },
  "language_info": {
   "codemirror_mode": {
    "name": "ipython",
    "version": 3
   },
   "file_extension": ".py",
   "mimetype": "text/x-python",
   "name": "python",
   "nbconvert_exporter": "python",
   "pygments_lexer": "ipython3",
   "version": "3.7.3"
  }
 },
 "nbformat": 4,
 "nbformat_minor": 1
}
